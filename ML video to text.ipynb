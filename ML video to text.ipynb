{
 "cells": [
  {
   "cell_type": "code",
   "execution_count": 46,
   "id": "9eada71b",
   "metadata": {},
   "outputs": [],
   "source": [
    "import subprocess\n",
    "from ibm_watson import SpeechToTextV1\n",
    "from ibm_watson.websocket import RecognizeCallback, AudioSource\n",
    "from ibm_cloud_sdk_core.authenticators import IAMAuthenticator"
   ]
  },
  {
   "cell_type": "code",
   "execution_count": 47,
   "id": "6cf96628",
   "metadata": {},
   "outputs": [
    {
     "data": {
      "text/plain": [
       "1"
      ]
     },
     "execution_count": 47,
     "metadata": {},
     "output_type": "execute_result"
    }
   ],
   "source": [
    "command = 'ffmpeg -i /Users/shreyapatel/Desktop/Video\\ to\\ text/ml.mkv -ab 160k -ar 44100 -vn audio1.wav'\n",
    "subprocess.call(command, shell=True)"
   ]
  },
  {
   "cell_type": "code",
   "execution_count": 48,
   "id": "a8f3e803",
   "metadata": {},
   "outputs": [],
   "source": [
    "apikey = 'e6r1jNE6IV-bo8PI-IYmcU6prfgv7tNSYYkKtUFB3Rzj'\n",
    "url = 'https://api.au-syd.speech-to-text.watson.cloud.ibm.com/instances/c78fa6e2-884f-4c67-b32d-b58523d06989'"
   ]
  },
  {
   "cell_type": "code",
   "execution_count": 49,
   "id": "5adaa7ae",
   "metadata": {},
   "outputs": [],
   "source": [
    "# Setup service\n",
    "authenticator = IAMAuthenticator(apikey)\n",
    "stt = SpeechToTextV1(authenticator=authenticator)\n",
    "stt.set_service_url(url)"
   ]
  },
  {
   "cell_type": "code",
   "execution_count": 50,
   "id": "0d981582",
   "metadata": {},
   "outputs": [],
   "source": [
    "with open('audio1.wav', 'rb') as f:\n",
    "    res = stt.recognize(audio=f, content_type='audio/wav', model='en-AU_NarrowbandModel').get_result()"
   ]
  },
  {
   "cell_type": "code",
   "execution_count": 51,
   "id": "4d5ae442",
   "metadata": {},
   "outputs": [
    {
     "data": {
      "text/plain": [
       "{'result_index': 0,\n",
       " 'results': [{'final': True,\n",
       "   'alternatives': [{'transcript': \"our ability to lead and get better at tasks through experience it's part of being human when we bought we know almost nothing and can do almost nothing for ourselves but soon we're learning and becoming more paper for everyday but did you know that computers can do the same \",\n",
       "     'confidence': 0.86}]},\n",
       "  {'final': True,\n",
       "   'alternatives': [{'transcript': 'machine that imprints together statistics and computer science to enable computers to learn how to do a given task without being programmed to do so ',\n",
       "     'confidence': 0.81}]},\n",
       "  {'final': True,\n",
       "   'alternatives': [{'transcript': 'just as your brain uses experience to improve the tough so few computers ',\n",
       "     'confidence': 0.74}]},\n",
       "  {'final': True,\n",
       "   'alternatives': [{'transcript': \"thank you need a computer until the difference between a picture of a dog and a picture of a cat you could begin by feeding it images and telling it this was a dog that one's account a computer programme to learn well sixty testicle patterns within the data that will enable it to recognise account or talking in the future it might figure out what its own that cuts actual to notice and it does come in a large variety of someone did and then represent that information you medically organising information but Preseli it's the computer not the programme of the identifies those patterns and establishes the algorithm by which future data will be sorted one example of a simple yet highly effective element is to find the optimal line separating cats and dogs when the computer seasoning picture it checks which side of the line it falls on and then says I get cash or \",\n",
       "     'confidence': 0.79}]},\n",
       "  {'final': True,\n",
       "   'alternatives': [{'transcript': 'of course they can be mistakes ',\n",
       "     'confidence': 0.94}]},\n",
       "  {'final': True,\n",
       "   'alternatives': [{'transcript': 'the more data the computer received the most finally changes how to becomes and the more accurate it can be in its predictions ',\n",
       "     'confidence': 0.69}]},\n",
       "  {'final': True,\n",
       "   'alternatives': [{'transcript': 'machine learning is already widely applied the technology behind facial recognition text and speech recognition ',\n",
       "     'confidence': 0.96}]},\n",
       "  {'final': True,\n",
       "   'alternatives': [{'transcript': 'spam filters on your inbox online shopping or viewing recommendations ',\n",
       "     'confidence': 0.89}]},\n",
       "  {'final': True,\n",
       "   'alternatives': [{'transcript': 'credit card for detection and so much more at the university of Oxford machine learning research as a combining statistics and computer science to build algorithms that consult more complex problems more efficiently using this computing power for medical diagnoses to social media ',\n",
       "     'confidence': 0.92}]},\n",
       "  {'final': True,\n",
       "   'alternatives': [{'transcript': 'the potential of machine learning to transform my world is truly mind blowing ',\n",
       "     'confidence': 0.85}]},\n",
       "  {'final': True,\n",
       "   'alternatives': [{'transcript': 'twenty out more about machine learning visit Oxford stocks to extra eighty two U. K. follow us on Twitter and find us on Facebook ',\n",
       "     'confidence': 0.8}]}]}"
      ]
     },
     "execution_count": 51,
     "metadata": {},
     "output_type": "execute_result"
    }
   ],
   "source": [
    "res"
   ]
  },
  {
   "cell_type": "code",
   "execution_count": 52,
   "id": "034fa9ed",
   "metadata": {},
   "outputs": [
    {
     "data": {
      "text/plain": [
       "11"
      ]
     },
     "execution_count": 52,
     "metadata": {},
     "output_type": "execute_result"
    }
   ],
   "source": [
    "len(res['results'])"
   ]
  },
  {
   "cell_type": "code",
   "execution_count": 53,
   "id": "2842f477",
   "metadata": {},
   "outputs": [],
   "source": [
    "text = [result['alternatives'][0]['transcript'].rstrip() + '.\\n' for result in res['results']]"
   ]
  },
  {
   "cell_type": "code",
   "execution_count": 54,
   "id": "2b3b66f0",
   "metadata": {},
   "outputs": [],
   "source": [
    "text = [para[0].title() + para[1:] for para in text]\n",
    "transcript = ''.join(text)\n",
    "with open('output.txt', 'w') as out:\n",
    "    out.writelines(transcript)"
   ]
  },
  {
   "cell_type": "code",
   "execution_count": 55,
   "id": "99ca71f6",
   "metadata": {},
   "outputs": [
    {
     "data": {
      "text/plain": [
       "\"Our ability to lead and get better at tasks through experience it's part of being human when we bought we know almost nothing and can do almost nothing for ourselves but soon we're learning and becoming more paper for everyday but did you know that computers can do the same.\\nMachine that imprints together statistics and computer science to enable computers to learn how to do a given task without being programmed to do so.\\nJust as your brain uses experience to improve the tough so few computers.\\nThank you need a computer until the difference between a picture of a dog and a picture of a cat you could begin by feeding it images and telling it this was a dog that one's account a computer programme to learn well sixty testicle patterns within the data that will enable it to recognise account or talking in the future it might figure out what its own that cuts actual to notice and it does come in a large variety of someone did and then represent that information you medically organising information but Preseli it's the computer not the programme of the identifies those patterns and establishes the algorithm by which future data will be sorted one example of a simple yet highly effective element is to find the optimal line separating cats and dogs when the computer seasoning picture it checks which side of the line it falls on and then says I get cash or.\\nOf course they can be mistakes.\\nThe more data the computer received the most finally changes how to becomes and the more accurate it can be in its predictions.\\nMachine learning is already widely applied the technology behind facial recognition text and speech recognition.\\nSpam filters on your inbox online shopping or viewing recommendations.\\nCredit card for detection and so much more at the university of Oxford machine learning research as a combining statistics and computer science to build algorithms that consult more complex problems more efficiently using this computing power for medical diagnoses to social media.\\nThe potential of machine learning to transform my world is truly mind blowing.\\nTwenty out more about machine learning visit Oxford stocks to extra eighty two U. K. follow us on Twitter and find us on Facebook.\\n\""
      ]
     },
     "execution_count": 55,
     "metadata": {},
     "output_type": "execute_result"
    }
   ],
   "source": [
    "transcript"
   ]
  },
  {
   "cell_type": "code",
   "execution_count": null,
   "id": "3ce37e9d",
   "metadata": {},
   "outputs": [],
   "source": [
    "import nltk\n",
    "nltk.download()"
   ]
  },
  {
   "cell_type": "code",
   "execution_count": 2,
   "id": "b779db0a",
   "metadata": {},
   "outputs": [],
   "source": [
    "from nltk.tokenize import sent_tokenize, word_tokenize, WordPunctTokenizer"
   ]
  },
  {
   "cell_type": "code",
   "execution_count": 56,
   "id": "af607872",
   "metadata": {},
   "outputs": [],
   "source": [
    "#input data\n",
    "input_text = transcript"
   ]
  },
  {
   "cell_type": "code",
   "execution_count": 57,
   "id": "f7ca15af",
   "metadata": {},
   "outputs": [
    {
     "name": "stdout",
     "output_type": "stream",
     "text": [
      "\n",
      "Sentence tokenizer:\n",
      "[\"Our ability to lead and get better at tasks through experience it's part of being human when we bought we know almost nothing and can do almost nothing for ourselves but soon we're learning and becoming more paper for everyday but did you know that computers can do the same.\", 'Machine that imprints together statistics and computer science to enable computers to learn how to do a given task without being programmed to do so.', 'Just as your brain uses experience to improve the tough so few computers.', \"Thank you need a computer until the difference between a picture of a dog and a picture of a cat you could begin by feeding it images and telling it this was a dog that one's account a computer programme to learn well sixty testicle patterns within the data that will enable it to recognise account or talking in the future it might figure out what its own that cuts actual to notice and it does come in a large variety of someone did and then represent that information you medically organising information but Preseli it's the computer not the programme of the identifies those patterns and establishes the algorithm by which future data will be sorted one example of a simple yet highly effective element is to find the optimal line separating cats and dogs when the computer seasoning picture it checks which side of the line it falls on and then says I get cash or.\", 'Of course they can be mistakes.', 'The more data the computer received the most finally changes how to becomes and the more accurate it can be in its predictions.', 'Machine learning is already widely applied the technology behind facial recognition text and speech recognition.', 'Spam filters on your inbox online shopping or viewing recommendations.', 'Credit card for detection and so much more at the university of Oxford machine learning research as a combining statistics and computer science to build algorithms that consult more complex problems more efficiently using this computing power for medical diagnoses to social media.', 'The potential of machine learning to transform my world is truly mind blowing.', 'Twenty out more about machine learning visit Oxford stocks to extra eighty two U. K. follow us on Twitter and find us on Facebook.']\n"
     ]
    }
   ],
   "source": [
    "print(\"\\nSentence tokenizer:\")\n",
    "print(sent_tokenize(input_text))"
   ]
  },
  {
   "cell_type": "code",
   "execution_count": 58,
   "id": "23dca1fb",
   "metadata": {},
   "outputs": [
    {
     "name": "stdout",
     "output_type": "stream",
     "text": [
      "\n",
      "Word tokenizer:\n",
      "['Our', 'ability', 'to', 'lead', 'and', 'get', 'better', 'at', 'tasks', 'through', 'experience', 'it', \"'s\", 'part', 'of', 'being', 'human', 'when', 'we', 'bought', 'we', 'know', 'almost', 'nothing', 'and', 'can', 'do', 'almost', 'nothing', 'for', 'ourselves', 'but', 'soon', 'we', \"'re\", 'learning', 'and', 'becoming', 'more', 'paper', 'for', 'everyday', 'but', 'did', 'you', 'know', 'that', 'computers', 'can', 'do', 'the', 'same', '.', 'Machine', 'that', 'imprints', 'together', 'statistics', 'and', 'computer', 'science', 'to', 'enable', 'computers', 'to', 'learn', 'how', 'to', 'do', 'a', 'given', 'task', 'without', 'being', 'programmed', 'to', 'do', 'so', '.', 'Just', 'as', 'your', 'brain', 'uses', 'experience', 'to', 'improve', 'the', 'tough', 'so', 'few', 'computers', '.', 'Thank', 'you', 'need', 'a', 'computer', 'until', 'the', 'difference', 'between', 'a', 'picture', 'of', 'a', 'dog', 'and', 'a', 'picture', 'of', 'a', 'cat', 'you', 'could', 'begin', 'by', 'feeding', 'it', 'images', 'and', 'telling', 'it', 'this', 'was', 'a', 'dog', 'that', 'one', \"'s\", 'account', 'a', 'computer', 'programme', 'to', 'learn', 'well', 'sixty', 'testicle', 'patterns', 'within', 'the', 'data', 'that', 'will', 'enable', 'it', 'to', 'recognise', 'account', 'or', 'talking', 'in', 'the', 'future', 'it', 'might', 'figure', 'out', 'what', 'its', 'own', 'that', 'cuts', 'actual', 'to', 'notice', 'and', 'it', 'does', 'come', 'in', 'a', 'large', 'variety', 'of', 'someone', 'did', 'and', 'then', 'represent', 'that', 'information', 'you', 'medically', 'organising', 'information', 'but', 'Preseli', 'it', \"'s\", 'the', 'computer', 'not', 'the', 'programme', 'of', 'the', 'identifies', 'those', 'patterns', 'and', 'establishes', 'the', 'algorithm', 'by', 'which', 'future', 'data', 'will', 'be', 'sorted', 'one', 'example', 'of', 'a', 'simple', 'yet', 'highly', 'effective', 'element', 'is', 'to', 'find', 'the', 'optimal', 'line', 'separating', 'cats', 'and', 'dogs', 'when', 'the', 'computer', 'seasoning', 'picture', 'it', 'checks', 'which', 'side', 'of', 'the', 'line', 'it', 'falls', 'on', 'and', 'then', 'says', 'I', 'get', 'cash', 'or', '.', 'Of', 'course', 'they', 'can', 'be', 'mistakes', '.', 'The', 'more', 'data', 'the', 'computer', 'received', 'the', 'most', 'finally', 'changes', 'how', 'to', 'becomes', 'and', 'the', 'more', 'accurate', 'it', 'can', 'be', 'in', 'its', 'predictions', '.', 'Machine', 'learning', 'is', 'already', 'widely', 'applied', 'the', 'technology', 'behind', 'facial', 'recognition', 'text', 'and', 'speech', 'recognition', '.', 'Spam', 'filters', 'on', 'your', 'inbox', 'online', 'shopping', 'or', 'viewing', 'recommendations', '.', 'Credit', 'card', 'for', 'detection', 'and', 'so', 'much', 'more', 'at', 'the', 'university', 'of', 'Oxford', 'machine', 'learning', 'research', 'as', 'a', 'combining', 'statistics', 'and', 'computer', 'science', 'to', 'build', 'algorithms', 'that', 'consult', 'more', 'complex', 'problems', 'more', 'efficiently', 'using', 'this', 'computing', 'power', 'for', 'medical', 'diagnoses', 'to', 'social', 'media', '.', 'The', 'potential', 'of', 'machine', 'learning', 'to', 'transform', 'my', 'world', 'is', 'truly', 'mind', 'blowing', '.', 'Twenty', 'out', 'more', 'about', 'machine', 'learning', 'visit', 'Oxford', 'stocks', 'to', 'extra', 'eighty', 'two', 'U.', 'K.', 'follow', 'us', 'on', 'Twitter', 'and', 'find', 'us', 'on', 'Facebook', '.']\n"
     ]
    }
   ],
   "source": [
    "# Word tokenizer\n",
    "print(\"\\nWord tokenizer:\")\n",
    "print(word_tokenize(input_text))"
   ]
  },
  {
   "cell_type": "code",
   "execution_count": 63,
   "id": "9e703743",
   "metadata": {},
   "outputs": [
    {
     "name": "stdout",
     "output_type": "stream",
     "text": [
      "\n",
      "Word punct tokenizer:\n",
      "['Our', 'ability', 'to', 'lead', 'and', 'get', 'better', 'at', 'tasks', 'through', 'experience', 'it', \"'\", 's', 'part', 'of', 'being', 'human', 'when', 'we', 'bought', 'we', 'know', 'almost', 'nothing', 'and', 'can', 'do', 'almost', 'nothing', 'for', 'ourselves', 'but', 'soon', 'we', \"'\", 're', 'learning', 'and', 'becoming', 'more', 'paper', 'for', 'everyday', 'but', 'did', 'you', 'know', 'that', 'computers', 'can', 'do', 'the', 'same', '.', 'Machine', 'that', 'imprints', 'together', 'statistics', 'and', 'computer', 'science', 'to', 'enable', 'computers', 'to', 'learn', 'how', 'to', 'do', 'a', 'given', 'task', 'without', 'being', 'programmed', 'to', 'do', 'so', '.', 'Just', 'as', 'your', 'brain', 'uses', 'experience', 'to', 'improve', 'the', 'tough', 'so', 'few', 'computers', '.', 'Thank', 'you', 'need', 'a', 'computer', 'until', 'the', 'difference', 'between', 'a', 'picture', 'of', 'a', 'dog', 'and', 'a', 'picture', 'of', 'a', 'cat', 'you', 'could', 'begin', 'by', 'feeding', 'it', 'images', 'and', 'telling', 'it', 'this', 'was', 'a', 'dog', 'that', 'one', \"'\", 's', 'account', 'a', 'computer', 'programme', 'to', 'learn', 'well', 'sixty', 'testicle', 'patterns', 'within', 'the', 'data', 'that', 'will', 'enable', 'it', 'to', 'recognise', 'account', 'or', 'talking', 'in', 'the', 'future', 'it', 'might', 'figure', 'out', 'what', 'its', 'own', 'that', 'cuts', 'actual', 'to', 'notice', 'and', 'it', 'does', 'come', 'in', 'a', 'large', 'variety', 'of', 'someone', 'did', 'and', 'then', 'represent', 'that', 'information', 'you', 'medically', 'organising', 'information', 'but', 'Preseli', 'it', \"'\", 's', 'the', 'computer', 'not', 'the', 'programme', 'of', 'the', 'identifies', 'those', 'patterns', 'and', 'establishes', 'the', 'algorithm', 'by', 'which', 'future', 'data', 'will', 'be', 'sorted', 'one', 'example', 'of', 'a', 'simple', 'yet', 'highly', 'effective', 'element', 'is', 'to', 'find', 'the', 'optimal', 'line', 'separating', 'cats', 'and', 'dogs', 'when', 'the', 'computer', 'seasoning', 'picture', 'it', 'checks', 'which', 'side', 'of', 'the', 'line', 'it', 'falls', 'on', 'and', 'then', 'says', 'I', 'get', 'cash', 'or', '.', 'Of', 'course', 'they', 'can', 'be', 'mistakes', '.', 'The', 'more', 'data', 'the', 'computer', 'received', 'the', 'most', 'finally', 'changes', 'how', 'to', 'becomes', 'and', 'the', 'more', 'accurate', 'it', 'can', 'be', 'in', 'its', 'predictions', '.', 'Machine', 'learning', 'is', 'already', 'widely', 'applied', 'the', 'technology', 'behind', 'facial', 'recognition', 'text', 'and', 'speech', 'recognition', '.', 'Spam', 'filters', 'on', 'your', 'inbox', 'online', 'shopping', 'or', 'viewing', 'recommendations', '.', 'Credit', 'card', 'for', 'detection', 'and', 'so', 'much', 'more', 'at', 'the', 'university', 'of', 'Oxford', 'machine', 'learning', 'research', 'as', 'a', 'combining', 'statistics', 'and', 'computer', 'science', 'to', 'build', 'algorithms', 'that', 'consult', 'more', 'complex', 'problems', 'more', 'efficiently', 'using', 'this', 'computing', 'power', 'for', 'medical', 'diagnoses', 'to', 'social', 'media', '.', 'The', 'potential', 'of', 'machine', 'learning', 'to', 'transform', 'my', 'world', 'is', 'truly', 'mind', 'blowing', '.', 'Twenty', 'out', 'more', 'about', 'machine', 'learning', 'visit', 'Oxford', 'stocks', 'to', 'extra', 'eighty', 'two', 'U', '.', 'K', '.', 'follow', 'us', 'on', 'Twitter', 'and', 'find', 'us', 'on', 'Facebook', '.']\n"
     ]
    }
   ],
   "source": [
    "# WordPunct tokenizer\n",
    "print(\"\\nWord punct tokenizer:\")\n",
    "print(WordPunctTokenizer().tokenize(input_text))\n"
   ]
  },
  {
   "cell_type": "code",
   "execution_count": 68,
   "id": "68e8f481",
   "metadata": {},
   "outputs": [
    {
     "name": "stdout",
     "output_type": "stream",
     "text": [
      "{\"isn't\", 'to', 'yours', 'hasn', 'as', 'itself', 'all', 'so', 'be', 'before', 'any', 'don', 'y', 'isn', 'your', 'myself', 'it', 'wouldn', \"needn't\", 'shouldn', 'nor', 'and', \"shouldn't\", 'been', 'from', 's', \"shan't\", 'with', 'the', 'after', \"you'd\", 'not', 'his', 'by', 'does', 'above', 'was', 'you', 'her', 'for', 'when', 've', 'my', \"didn't\", 'yourselves', 'theirs', \"she's\", 'she', 'doing', 'against', 'shan', \"you're\", \"wouldn't\", 'how', 'at', 'only', 'will', 'such', 'its', 'i', \"you'll\", 'wasn', 'whom', \"hasn't\", 'up', \"mustn't\", 'if', 'hers', 'but', \"hadn't\", 're', 'were', 'out', \"should've\", 'weren', 'below', 't', 'hadn', 'they', 'over', 'we', 'mustn', 'm', 'haven', 'do', 'd', \"mightn't\", 'why', 'yourself', 'an', 'll', 'themselves', 'other', 'no', 'won', 'again', 'off', \"couldn't\", 'some', 'because', 'our', 'ours', 'which', 'did', 'where', 'own', 'now', 'doesn', 'until', \"don't\", 'this', 'between', 'through', \"aren't\", \"haven't\", 'them', 'their', 'once', 'have', 'are', 'himself', 'having', 'both', \"it's\", 'each', 'him', 'on', 'am', 'those', 'there', 'just', 'more', 'didn', \"won't\", 'most', 'ma', \"doesn't\", 'or', 'few', 'who', 'should', 'needn', 'here', 'has', 'too', 'during', 'very', 'herself', 'ourselves', \"you've\", 'down', 'these', \"that'll\", 'under', 'further', 'same', 'had', 'can', 'he', 'than', 'about', \"wasn't\", 'of', 'ain', 'into', 'is', 'being', 'then', 'while', 'a', 'aren', 'couldn', 'what', \"weren't\", 'o', 'me', 'in', 'mightn', 'that'}\n"
     ]
    }
   ],
   "source": [
    "from nltk.corpus import stopwords\n",
    "stop_words=set(stopwords.words(\"english\"))\n",
    "print(stop_words)"
   ]
  },
  {
   "cell_type": "code",
   "execution_count": 72,
   "id": "def42b5a",
   "metadata": {},
   "outputs": [
    {
     "name": "stdout",
     "output_type": "stream",
     "text": [
      "Tokenized Sentence: ['Our', 'ability', 'to', 'lead', 'and', 'get', 'better', 'at', 'tasks', 'through', 'experience', 'it', \"'s\", 'part', 'of', 'being', 'human', 'when', 'we', 'bought', 'we', 'know', 'almost', 'nothing', 'and', 'can', 'do', 'almost', 'nothing', 'for', 'ourselves', 'but', 'soon', 'we', \"'re\", 'learning', 'and', 'becoming', 'more', 'paper', 'for', 'everyday', 'but', 'did', 'you', 'know', 'that', 'computers', 'can', 'do', 'the', 'same', '.', 'Machine', 'that', 'imprints', 'together', 'statistics', 'and', 'computer', 'science', 'to', 'enable', 'computers', 'to', 'learn', 'how', 'to', 'do', 'a', 'given', 'task', 'without', 'being', 'programmed', 'to', 'do', 'so', '.', 'Just', 'as', 'your', 'brain', 'uses', 'experience', 'to', 'improve', 'the', 'tough', 'so', 'few', 'computers', '.', 'Thank', 'you', 'need', 'a', 'computer', 'until', 'the', 'difference', 'between', 'a', 'picture', 'of', 'a', 'dog', 'and', 'a', 'picture', 'of', 'a', 'cat', 'you', 'could', 'begin', 'by', 'feeding', 'it', 'images', 'and', 'telling', 'it', 'this', 'was', 'a', 'dog', 'that', 'one', \"'s\", 'account', 'a', 'computer', 'programme', 'to', 'learn', 'well', 'sixty', 'testicle', 'patterns', 'within', 'the', 'data', 'that', 'will', 'enable', 'it', 'to', 'recognise', 'account', 'or', 'talking', 'in', 'the', 'future', 'it', 'might', 'figure', 'out', 'what', 'its', 'own', 'that', 'cuts', 'actual', 'to', 'notice', 'and', 'it', 'does', 'come', 'in', 'a', 'large', 'variety', 'of', 'someone', 'did', 'and', 'then', 'represent', 'that', 'information', 'you', 'medically', 'organising', 'information', 'but', 'Preseli', 'it', \"'s\", 'the', 'computer', 'not', 'the', 'programme', 'of', 'the', 'identifies', 'those', 'patterns', 'and', 'establishes', 'the', 'algorithm', 'by', 'which', 'future', 'data', 'will', 'be', 'sorted', 'one', 'example', 'of', 'a', 'simple', 'yet', 'highly', 'effective', 'element', 'is', 'to', 'find', 'the', 'optimal', 'line', 'separating', 'cats', 'and', 'dogs', 'when', 'the', 'computer', 'seasoning', 'picture', 'it', 'checks', 'which', 'side', 'of', 'the', 'line', 'it', 'falls', 'on', 'and', 'then', 'says', 'I', 'get', 'cash', 'or', '.', 'Of', 'course', 'they', 'can', 'be', 'mistakes', '.', 'The', 'more', 'data', 'the', 'computer', 'received', 'the', 'most', 'finally', 'changes', 'how', 'to', 'becomes', 'and', 'the', 'more', 'accurate', 'it', 'can', 'be', 'in', 'its', 'predictions', '.', 'Machine', 'learning', 'is', 'already', 'widely', 'applied', 'the', 'technology', 'behind', 'facial', 'recognition', 'text', 'and', 'speech', 'recognition', '.', 'Spam', 'filters', 'on', 'your', 'inbox', 'online', 'shopping', 'or', 'viewing', 'recommendations', '.', 'Credit', 'card', 'for', 'detection', 'and', 'so', 'much', 'more', 'at', 'the', 'university', 'of', 'Oxford', 'machine', 'learning', 'research', 'as', 'a', 'combining', 'statistics', 'and', 'computer', 'science', 'to', 'build', 'algorithms', 'that', 'consult', 'more', 'complex', 'problems', 'more', 'efficiently', 'using', 'this', 'computing', 'power', 'for', 'medical', 'diagnoses', 'to', 'social', 'media', '.', 'The', 'potential', 'of', 'machine', 'learning', 'to', 'transform', 'my', 'world', 'is', 'truly', 'mind', 'blowing', '.', 'Twenty', 'out', 'more', 'about', 'machine', 'learning', 'visit', 'Oxford', 'stocks', 'to', 'extra', 'eighty', 'two', 'U.', 'K.', 'follow', 'us', 'on', 'Twitter', 'and', 'find', 'us', 'on', 'Facebook', '.']\n",
      "/nFilterd Sentence: ['Our', 'ability', 'lead', 'get', 'better', 'tasks', 'experience', \"'s\", 'part', 'human', 'bought', 'know', 'almost', 'nothing', 'almost', 'nothing', 'soon', \"'re\", 'learning', 'becoming', 'paper', 'everyday', 'know', 'computers', '.', 'Machine', 'imprints', 'together', 'statistics', 'computer', 'science', 'enable', 'computers', 'learn', 'given', 'task', 'without', 'programmed', '.', 'Just', 'brain', 'uses', 'experience', 'improve', 'tough', 'computers', '.', 'Thank', 'need', 'computer', 'difference', 'picture', 'dog', 'picture', 'cat', 'could', 'begin', 'feeding', 'images', 'telling', 'dog', 'one', \"'s\", 'account', 'computer', 'programme', 'learn', 'well', 'sixty', 'testicle', 'patterns', 'within', 'data', 'enable', 'recognise', 'account', 'talking', 'future', 'might', 'figure', 'cuts', 'actual', 'notice', 'come', 'large', 'variety', 'someone', 'represent', 'information', 'medically', 'organising', 'information', 'Preseli', \"'s\", 'computer', 'programme', 'identifies', 'patterns', 'establishes', 'algorithm', 'future', 'data', 'sorted', 'one', 'example', 'simple', 'yet', 'highly', 'effective', 'element', 'find', 'optimal', 'line', 'separating', 'cats', 'dogs', 'computer', 'seasoning', 'picture', 'checks', 'side', 'line', 'falls', 'says', 'I', 'get', 'cash', '.', 'Of', 'course', 'mistakes', '.', 'The', 'data', 'computer', 'received', 'finally', 'changes', 'becomes', 'accurate', 'predictions', '.', 'Machine', 'learning', 'already', 'widely', 'applied', 'technology', 'behind', 'facial', 'recognition', 'text', 'speech', 'recognition', '.', 'Spam', 'filters', 'inbox', 'online', 'shopping', 'viewing', 'recommendations', '.', 'Credit', 'card', 'detection', 'much', 'university', 'Oxford', 'machine', 'learning', 'research', 'combining', 'statistics', 'computer', 'science', 'build', 'algorithms', 'consult', 'complex', 'problems', 'efficiently', 'using', 'computing', 'power', 'medical', 'diagnoses', 'social', 'media', '.', 'The', 'potential', 'machine', 'learning', 'transform', 'world', 'truly', 'mind', 'blowing', '.', 'Twenty', 'machine', 'learning', 'visit', 'Oxford', 'stocks', 'extra', 'eighty', 'two', 'U.', 'K.', 'follow', 'us', 'Twitter', 'find', 'us', 'Facebook', '.']\n"
     ]
    }
   ],
   "source": [
    "from nltk.tokenize import word_tokenize\n",
    "\n",
    "tokenized_sent=word_tokenize(input_text)\n",
    "\n",
    "filtered_sent=[]\n",
    "for w in tokenized_sent:\n",
    "    if w not in stop_words:\n",
    "        filtered_sent.append(w)\n",
    "print(\"Tokenized Sentence:\",tokenized_sent)\n",
    "\n",
    "print(\"Filterd Sentence:\",filtered_sent)"
   ]
  },
  {
   "cell_type": "code",
   "execution_count": 80,
   "id": "20e90c67",
   "metadata": {},
   "outputs": [
    {
     "name": "stdout",
     "output_type": "stream",
     "text": [
      "<FreqDist with 165 samples and 218 outcomes>\n",
      "5 most common :-  [('.', 11), ('computer', 7), ('learning', 5), (\"'s\", 3), ('computers', 3)]\n"
     ]
    }
   ],
   "source": [
    "from nltk.probability import FreqDist\n",
    "freq_dist = FreqDist(filtered_sent)\n",
    "print(freq_dist)\n",
    "print(\"5 most common :- \",freq_dist.most_common(5))"
   ]
  },
  {
   "cell_type": "code",
   "execution_count": 81,
   "id": "d0a220ad",
   "metadata": {},
   "outputs": [
    {
     "data": {
      "image/png": "[encoded data removed]",
      "text/plain": [
       "<Figure size 432x288 with 1 Axes>"
      ]
     },
     "metadata": {
      "needs_background": "light"
     },
     "output_type": "display_data"
    }
   ],
   "source": [
    "# Frequency Distribution Plot\n",
    "import matplotlib.pyplot as plt\n",
    "freq_dist.plot(10,cumulative=False)\n",
    "plt.show()"
   ]
  },
  {
   "cell_type": "code",
   "execution_count": null,
   "id": "1ad9d754",
   "metadata": {},
   "outputs": [],
   "source": []
  }
 ],
 "metadata": {
  "kernelspec": {
   "display_name": "Python 3 (ipykernel)",
   "language": "python",
   "name": "python3"
  },
  "language_info": {
   "codemirror_mode": {
    "name": "ipython",
    "version": 3
   },
   "file_extension": ".py",
   "mimetype": "text/x-python",
   "name": "python",
   "nbconvert_exporter": "python",
   "pygments_lexer": "ipython3",
   "version": "3.9.12"
  }
 },
 "nbformat": 4,
 "nbformat_minor": 5
}
